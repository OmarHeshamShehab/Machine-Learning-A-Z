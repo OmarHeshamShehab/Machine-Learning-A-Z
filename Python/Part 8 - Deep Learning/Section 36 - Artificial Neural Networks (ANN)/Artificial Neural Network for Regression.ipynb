{
  "cells": [
    {
      "cell_type": "markdown",
      "metadata": {
        "colab_type": "text",
        "id": "3cbb7fRy-eyr"
      },
      "source": [
        "# Artificial Neural Network"
      ]
    },
    {
      "cell_type": "markdown",
      "metadata": {
        "colab_type": "text",
        "id": "8sNDnxE2-pwE"
      },
      "source": [
        "### Importing the libraries"
      ]
    },
    {
      "cell_type": "code",
      "execution_count": 1,
      "metadata": {
        "colab": {},
        "colab_type": "code",
        "id": "lxChR1Rk-umf"
      },
      "outputs": [
        {
          "name": "stdout",
          "output_type": "stream",
          "text": [
            "WARNING:tensorflow:From e:\\Courses\\Machine-Learning-A-Z\\Python\\env\\Lib\\site-packages\\keras\\src\\losses.py:2976: The name tf.losses.sparse_softmax_cross_entropy is deprecated. Please use tf.compat.v1.losses.sparse_softmax_cross_entropy instead.\n",
            "\n"
          ]
        }
      ],
      "source": [
        "import numpy as np\n",
        "import pandas as pd\n",
        "import tensorflow as tf"
      ]
    },
    {
      "cell_type": "code",
      "execution_count": 2,
      "metadata": {
        "colab": {
          "base_uri": "https://localhost:8080/",
          "height": 34
        },
        "colab_type": "code",
        "id": "uBTqR3nacj0e",
        "outputId": "4c0bd183-e424-429a-9fba-ceb841c06888"
      },
      "outputs": [
        {
          "data": {
            "text/plain": [
              "'2.15.0'"
            ]
          },
          "execution_count": 2,
          "metadata": {},
          "output_type": "execute_result"
        }
      ],
      "source": [
        "tf.__version__"
      ]
    },
    {
      "cell_type": "markdown",
      "metadata": {
        "colab_type": "text",
        "id": "AG3FQEch-yuA"
      },
      "source": [
        "## Part 1 - Data Preprocessing"
      ]
    },
    {
      "cell_type": "markdown",
      "metadata": {
        "colab_type": "text",
        "id": "-4zq8Mza_D9O"
      },
      "source": [
        "### Importing the dataset"
      ]
    },
    {
      "cell_type": "code",
      "execution_count": 3,
      "metadata": {
        "colab": {},
        "colab_type": "code",
        "id": "B9CV13Co_HHM"
      },
      "outputs": [],
      "source": [
        "dataset = pd.read_excel('Folds5x2_pp.xlsx')\n",
        "X = dataset.iloc[:, :-1].values\n",
        "y = dataset.iloc[:, -1].values"
      ]
    },
    {
      "cell_type": "markdown",
      "metadata": {
        "colab_type": "text",
        "id": "VC6omXel_Up0"
      },
      "source": [
        "### Splitting the dataset into the Training set and Test set"
      ]
    },
    {
      "cell_type": "code",
      "execution_count": 4,
      "metadata": {
        "colab": {},
        "colab_type": "code",
        "id": "L5edeb2r_agx"
      },
      "outputs": [],
      "source": [
        "from sklearn.model_selection import train_test_split\n",
        "X_train, X_test, y_train, y_test = train_test_split(X, y, test_size = 0.2, random_state = 0)"
      ]
    },
    {
      "cell_type": "markdown",
      "metadata": {
        "colab_type": "text",
        "id": "_mSLlAT9_eyI"
      },
      "source": [
        "## Part 2 - Building the ANN"
      ]
    },
    {
      "cell_type": "markdown",
      "metadata": {
        "colab_type": "text",
        "id": "CsBULd_f_wLY"
      },
      "source": [
        "### Initializing the ANN"
      ]
    },
    {
      "cell_type": "code",
      "execution_count": 5,
      "metadata": {
        "colab": {},
        "colab_type": "code",
        "id": "J6Hd97Ls__Nz"
      },
      "outputs": [
        {
          "name": "stdout",
          "output_type": "stream",
          "text": [
            "WARNING:tensorflow:From e:\\Courses\\Machine-Learning-A-Z\\Python\\env\\Lib\\site-packages\\keras\\src\\backend.py:873: The name tf.get_default_graph is deprecated. Please use tf.compat.v1.get_default_graph instead.\n",
            "\n"
          ]
        }
      ],
      "source": [
        "ann = tf.keras.models.Sequential()"
      ]
    },
    {
      "cell_type": "markdown",
      "metadata": {
        "colab_type": "text",
        "id": "iitAFJS_ABUn"
      },
      "source": [
        "### Adding the input layer and the first hidden layer"
      ]
    },
    {
      "cell_type": "code",
      "execution_count": 6,
      "metadata": {
        "colab": {},
        "colab_type": "code",
        "id": "ksO_Vv40AHix"
      },
      "outputs": [],
      "source": [
        "ann.add(tf.keras.layers.Dense(units=6, activation='relu'))"
      ]
    },
    {
      "cell_type": "markdown",
      "metadata": {
        "colab_type": "text",
        "id": "-lb4kK_wAKbs"
      },
      "source": [
        "### Adding the second hidden layer"
      ]
    },
    {
      "cell_type": "code",
      "execution_count": 7,
      "metadata": {
        "colab": {},
        "colab_type": "code",
        "id": "c2357OqEAQOQ"
      },
      "outputs": [],
      "source": [
        "ann.add(tf.keras.layers.Dense(units=6, activation='relu'))"
      ]
    },
    {
      "cell_type": "markdown",
      "metadata": {
        "colab_type": "text",
        "id": "jwMOmKb3AdBY"
      },
      "source": [
        "### Adding the output layer"
      ]
    },
    {
      "cell_type": "code",
      "execution_count": 8,
      "metadata": {
        "colab": {},
        "colab_type": "code",
        "id": "YFATpzsUAkLL"
      },
      "outputs": [],
      "source": [
        "ann.add(tf.keras.layers.Dense(units=1))"
      ]
    },
    {
      "cell_type": "markdown",
      "metadata": {
        "colab_type": "text",
        "id": "fq7e4fF6A1yy"
      },
      "source": [
        "## Part 3 - Training the ANN"
      ]
    },
    {
      "cell_type": "markdown",
      "metadata": {
        "colab_type": "text",
        "id": "qDeylAs2An25"
      },
      "source": [
        "### Compiling the ANN"
      ]
    },
    {
      "cell_type": "code",
      "execution_count": 9,
      "metadata": {
        "colab": {},
        "colab_type": "code",
        "id": "pesgbWlCAtB4"
      },
      "outputs": [
        {
          "name": "stdout",
          "output_type": "stream",
          "text": [
            "WARNING:tensorflow:From e:\\Courses\\Machine-Learning-A-Z\\Python\\env\\Lib\\site-packages\\keras\\src\\optimizers\\__init__.py:309: The name tf.train.Optimizer is deprecated. Please use tf.compat.v1.train.Optimizer instead.\n",
            "\n"
          ]
        }
      ],
      "source": [
        "# mean squared error  the sum of the squared differences between the predictions and the real energy output in the batch\n",
        "ann.compile(optimizer=\"adam\", loss=\"mean_squared_error\")"
      ]
    },
    {
      "cell_type": "markdown",
      "metadata": {
        "colab_type": "text",
        "id": "YjVuiybYOo7r"
      },
      "source": [
        "### Training the ANN model on the Training set"
      ]
    },
    {
      "cell_type": "code",
      "execution_count": 10,
      "metadata": {
        "colab": {
          "base_uri": "https://localhost:8080/",
          "height": 1000
        },
        "colab_type": "code",
        "id": "c_vV-tiiA5zn",
        "outputId": "4a2b6ee6-ed75-4698-9069-b250e613803f"
      },
      "outputs": [
        {
          "name": "stdout",
          "output_type": "stream",
          "text": [
            "Epoch 1/100\n",
            "WARNING:tensorflow:From e:\\Courses\\Machine-Learning-A-Z\\Python\\env\\Lib\\site-packages\\keras\\src\\utils\\tf_utils.py:492: The name tf.ragged.RaggedTensorValue is deprecated. Please use tf.compat.v1.ragged.RaggedTensorValue instead.\n",
            "\n",
            "240/240 [==============================] - 3s 4ms/step - loss: 1738.7386\n",
            "Epoch 2/100\n",
            "240/240 [==============================] - 0s 2ms/step - loss: 130.5447\n",
            "Epoch 3/100\n",
            "240/240 [==============================] - 1s 3ms/step - loss: 121.2268\n",
            "Epoch 4/100\n",
            "240/240 [==============================] - 1s 2ms/step - loss: 110.0634\n",
            "Epoch 5/100\n",
            "240/240 [==============================] - 1s 2ms/step - loss: 98.1113\n",
            "Epoch 6/100\n",
            "240/240 [==============================] - 1s 3ms/step - loss: 86.1563\n",
            "Epoch 7/100\n",
            "240/240 [==============================] - 1s 3ms/step - loss: 74.9205\n",
            "Epoch 8/100\n",
            "240/240 [==============================] - 1s 3ms/step - loss: 65.5436\n",
            "Epoch 9/100\n",
            "240/240 [==============================] - 1s 2ms/step - loss: 57.0046\n",
            "Epoch 10/100\n",
            "240/240 [==============================] - 1s 2ms/step - loss: 50.8664\n",
            "Epoch 11/100\n",
            "240/240 [==============================] - 0s 2ms/step - loss: 45.2446\n",
            "Epoch 12/100\n",
            "240/240 [==============================] - 1s 3ms/step - loss: 41.2537\n",
            "Epoch 13/100\n",
            "240/240 [==============================] - 1s 3ms/step - loss: 37.9257\n",
            "Epoch 14/100\n",
            "240/240 [==============================] - 1s 2ms/step - loss: 35.3257\n",
            "Epoch 15/100\n",
            "240/240 [==============================] - 1s 3ms/step - loss: 33.1571\n",
            "Epoch 16/100\n",
            "240/240 [==============================] - 1s 3ms/step - loss: 31.3644\n",
            "Epoch 17/100\n",
            "240/240 [==============================] - 1s 3ms/step - loss: 30.4001\n",
            "Epoch 18/100\n",
            "240/240 [==============================] - 0s 2ms/step - loss: 29.7728\n",
            "Epoch 19/100\n",
            "240/240 [==============================] - 1s 3ms/step - loss: 28.7888\n",
            "Epoch 20/100\n",
            "240/240 [==============================] - 1s 3ms/step - loss: 28.8194\n",
            "Epoch 21/100\n",
            "240/240 [==============================] - 1s 3ms/step - loss: 28.2000\n",
            "Epoch 22/100\n",
            "240/240 [==============================] - 1s 3ms/step - loss: 28.3320\n",
            "Epoch 23/100\n",
            "240/240 [==============================] - 1s 3ms/step - loss: 28.3395\n",
            "Epoch 24/100\n",
            "240/240 [==============================] - 1s 3ms/step - loss: 28.7809\n",
            "Epoch 25/100\n",
            "240/240 [==============================] - 1s 3ms/step - loss: 27.5274\n",
            "Epoch 26/100\n",
            "240/240 [==============================] - 0s 2ms/step - loss: 27.9875\n",
            "Epoch 27/100\n",
            "240/240 [==============================] - 1s 3ms/step - loss: 27.6923\n",
            "Epoch 28/100\n",
            "240/240 [==============================] - 1s 3ms/step - loss: 27.4212\n",
            "Epoch 29/100\n",
            "240/240 [==============================] - 1s 3ms/step - loss: 27.8420\n",
            "Epoch 30/100\n",
            "240/240 [==============================] - 1s 3ms/step - loss: 27.1135\n",
            "Epoch 31/100\n",
            "240/240 [==============================] - 1s 3ms/step - loss: 27.5509\n",
            "Epoch 32/100\n",
            "240/240 [==============================] - 1s 3ms/step - loss: 27.5071\n",
            "Epoch 33/100\n",
            "240/240 [==============================] - 1s 2ms/step - loss: 27.3552\n",
            "Epoch 34/100\n",
            "240/240 [==============================] - 1s 3ms/step - loss: 27.0115\n",
            "Epoch 35/100\n",
            "240/240 [==============================] - 1s 2ms/step - loss: 27.6653\n",
            "Epoch 36/100\n",
            "240/240 [==============================] - 1s 2ms/step - loss: 26.8621\n",
            "Epoch 37/100\n",
            "240/240 [==============================] - 1s 2ms/step - loss: 27.2966\n",
            "Epoch 38/100\n",
            "240/240 [==============================] - 0s 2ms/step - loss: 26.7983\n",
            "Epoch 39/100\n",
            "240/240 [==============================] - 1s 3ms/step - loss: 26.9556\n",
            "Epoch 40/100\n",
            "240/240 [==============================] - 0s 2ms/step - loss: 27.3599\n",
            "Epoch 41/100\n",
            "240/240 [==============================] - 0s 2ms/step - loss: 26.9979\n",
            "Epoch 42/100\n",
            "240/240 [==============================] - 0s 2ms/step - loss: 26.6610\n",
            "Epoch 43/100\n",
            "240/240 [==============================] - 1s 2ms/step - loss: 27.4417\n",
            "Epoch 44/100\n",
            "240/240 [==============================] - 1s 3ms/step - loss: 26.5836\n",
            "Epoch 45/100\n",
            "240/240 [==============================] - 1s 3ms/step - loss: 26.6563\n",
            "Epoch 46/100\n",
            "240/240 [==============================] - 1s 3ms/step - loss: 27.8230\n",
            "Epoch 47/100\n",
            "240/240 [==============================] - 1s 4ms/step - loss: 27.3910\n",
            "Epoch 48/100\n",
            "240/240 [==============================] - 1s 4ms/step - loss: 27.4801\n",
            "Epoch 49/100\n",
            "240/240 [==============================] - 1s 4ms/step - loss: 27.5570\n",
            "Epoch 50/100\n",
            "240/240 [==============================] - 1s 4ms/step - loss: 26.9766\n",
            "Epoch 51/100\n",
            "240/240 [==============================] - 1s 4ms/step - loss: 26.6468\n",
            "Epoch 52/100\n",
            "240/240 [==============================] - 1s 4ms/step - loss: 26.8255\n",
            "Epoch 53/100\n",
            "240/240 [==============================] - 1s 3ms/step - loss: 26.7488\n",
            "Epoch 54/100\n",
            "240/240 [==============================] - 1s 4ms/step - loss: 27.0235\n",
            "Epoch 55/100\n",
            "240/240 [==============================] - 1s 4ms/step - loss: 27.0671\n",
            "Epoch 56/100\n",
            "240/240 [==============================] - 1s 4ms/step - loss: 27.6800\n",
            "Epoch 57/100\n",
            "240/240 [==============================] - 1s 5ms/step - loss: 26.6488\n",
            "Epoch 58/100\n",
            "240/240 [==============================] - 1s 4ms/step - loss: 27.0103\n",
            "Epoch 59/100\n",
            "240/240 [==============================] - 1s 5ms/step - loss: 27.1117\n",
            "Epoch 60/100\n",
            "240/240 [==============================] - 0s 2ms/step - loss: 26.9579\n",
            "Epoch 61/100\n",
            "240/240 [==============================] - 1s 2ms/step - loss: 27.0188\n",
            "Epoch 62/100\n",
            "240/240 [==============================] - 1s 3ms/step - loss: 26.6897\n",
            "Epoch 63/100\n",
            "240/240 [==============================] - 1s 3ms/step - loss: 26.5495\n",
            "Epoch 64/100\n",
            "240/240 [==============================] - 1s 3ms/step - loss: 27.1148\n",
            "Epoch 65/100\n",
            "240/240 [==============================] - 1s 4ms/step - loss: 26.9990\n",
            "Epoch 66/100\n",
            "240/240 [==============================] - 1s 3ms/step - loss: 27.3816\n",
            "Epoch 67/100\n",
            "240/240 [==============================] - 1s 3ms/step - loss: 27.1974\n",
            "Epoch 68/100\n",
            "240/240 [==============================] - 1s 4ms/step - loss: 26.9764\n",
            "Epoch 69/100\n",
            "240/240 [==============================] - 1s 3ms/step - loss: 27.0934\n",
            "Epoch 70/100\n",
            "240/240 [==============================] - 1s 3ms/step - loss: 27.3448\n",
            "Epoch 71/100\n",
            "240/240 [==============================] - 1s 2ms/step - loss: 26.9300\n",
            "Epoch 72/100\n",
            "240/240 [==============================] - 1s 3ms/step - loss: 27.0688\n",
            "Epoch 73/100\n",
            "240/240 [==============================] - 1s 3ms/step - loss: 27.0112\n",
            "Epoch 74/100\n",
            "240/240 [==============================] - 1s 3ms/step - loss: 27.1034\n",
            "Epoch 75/100\n",
            "240/240 [==============================] - 1s 3ms/step - loss: 26.9315\n",
            "Epoch 76/100\n",
            "240/240 [==============================] - 1s 4ms/step - loss: 27.2824\n",
            "Epoch 77/100\n",
            "240/240 [==============================] - 1s 2ms/step - loss: 26.3383\n",
            "Epoch 78/100\n",
            "240/240 [==============================] - 1s 3ms/step - loss: 26.9487\n",
            "Epoch 79/100\n",
            "240/240 [==============================] - 1s 2ms/step - loss: 27.3406\n",
            "Epoch 80/100\n",
            "240/240 [==============================] - 1s 3ms/step - loss: 26.6062\n",
            "Epoch 81/100\n",
            "240/240 [==============================] - 1s 3ms/step - loss: 27.1096\n",
            "Epoch 82/100\n",
            "240/240 [==============================] - 1s 3ms/step - loss: 26.9842\n",
            "Epoch 83/100\n",
            "240/240 [==============================] - 1s 2ms/step - loss: 26.6417\n",
            "Epoch 84/100\n",
            "240/240 [==============================] - 1s 3ms/step - loss: 26.6167\n",
            "Epoch 85/100\n",
            "240/240 [==============================] - 1s 2ms/step - loss: 26.6367\n",
            "Epoch 86/100\n",
            "240/240 [==============================] - 1s 3ms/step - loss: 26.8965\n",
            "Epoch 87/100\n",
            "240/240 [==============================] - 1s 3ms/step - loss: 27.5647\n",
            "Epoch 88/100\n",
            "240/240 [==============================] - 1s 3ms/step - loss: 27.1738\n",
            "Epoch 89/100\n",
            "240/240 [==============================] - 1s 2ms/step - loss: 27.1643\n",
            "Epoch 90/100\n",
            "240/240 [==============================] - 0s 2ms/step - loss: 26.7286\n",
            "Epoch 91/100\n",
            "240/240 [==============================] - 0s 2ms/step - loss: 27.0489\n",
            "Epoch 92/100\n",
            "240/240 [==============================] - 1s 2ms/step - loss: 27.1863\n",
            "Epoch 93/100\n",
            "240/240 [==============================] - 0s 2ms/step - loss: 26.7571\n",
            "Epoch 94/100\n",
            "240/240 [==============================] - 1s 3ms/step - loss: 26.4828\n",
            "Epoch 95/100\n",
            "240/240 [==============================] - 1s 3ms/step - loss: 26.7142\n",
            "Epoch 96/100\n",
            "240/240 [==============================] - 1s 2ms/step - loss: 27.9299\n",
            "Epoch 97/100\n",
            "240/240 [==============================] - 1s 3ms/step - loss: 27.1182\n",
            "Epoch 98/100\n",
            "240/240 [==============================] - 1s 4ms/step - loss: 26.7916\n",
            "Epoch 99/100\n",
            "240/240 [==============================] - 1s 4ms/step - loss: 26.9396\n",
            "Epoch 100/100\n",
            "240/240 [==============================] - 1s 3ms/step - loss: 26.8441\n"
          ]
        },
        {
          "data": {
            "text/plain": [
              "<keras.src.callbacks.History at 0x1fba291c550>"
            ]
          },
          "execution_count": 10,
          "metadata": {},
          "output_type": "execute_result"
        }
      ],
      "source": [
        "ann.fit(X_train, y_train, batch_size = 32, epochs = 100)"
      ]
    },
    {
      "cell_type": "markdown",
      "metadata": {
        "colab_type": "text",
        "id": "0H0zKKNEBLD5"
      },
      "source": [
        "### Predicting the results of the Test set"
      ]
    },
    {
      "cell_type": "code",
      "execution_count": 11,
      "metadata": {
        "colab": {
          "base_uri": "https://localhost:8080/",
          "height": 134
        },
        "colab_type": "code",
        "id": "IA0yApEmBG1X",
        "outputId": "cb981e1f-9204-4a2a-fece-9d66a6919189"
      },
      "outputs": [
        {
          "name": "stdout",
          "output_type": "stream",
          "text": [
            "60/60 [==============================] - 0s 2ms/step\n",
            "[[430.42 431.23]\n",
            " [461.44 460.01]\n",
            " [464.94 461.14]\n",
            " ...\n",
            " [472.17 473.26]\n",
            " [438.97 438.  ]\n",
            " [458.18 463.28]]\n"
          ]
        }
      ],
      "source": [
        "y_pred = ann.predict(X_test)\n",
        "np.set_printoptions(precision=2)\n",
        "print(np.concatenate((y_pred.reshape(len(y_pred),1), y_test.reshape(len(y_test),1)),1))"
      ]
    },
    {
      "cell_type": "code",
      "execution_count": 13,
      "metadata": {},
      "outputs": [
        {
          "name": "stdout",
          "output_type": "stream",
          "text": [
            "Mean Absolute Error (MAE): 3.9690681787568565\n"
          ]
        }
      ],
      "source": [
        "from sklearn.metrics import mean_absolute_error\n",
        "\n",
        "mae = mean_absolute_error(y_test, y_pred)\n",
        "print(f\"Mean Absolute Error (MAE): {mae}\")"
      ]
    }
  ],
  "metadata": {
    "colab": {
      "collapsed_sections": [],
      "name": "Artificial Neural Network",
      "provenance": [],
      "toc_visible": true
    },
    "kernelspec": {
      "display_name": "Python 3",
      "name": "python3"
    },
    "language_info": {
      "codemirror_mode": {
        "name": "ipython",
        "version": 3
      },
      "file_extension": ".py",
      "mimetype": "text/x-python",
      "name": "python",
      "nbconvert_exporter": "python",
      "pygments_lexer": "ipython3",
      "version": "3.11.6"
    }
  },
  "nbformat": 4,
  "nbformat_minor": 0
}
