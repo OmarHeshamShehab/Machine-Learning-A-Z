{
  "cells": [
    {
      "cell_type": "markdown",
      "metadata": {
        "colab_type": "text",
        "id": "3DR-eO17geWu"
      },
      "source": [
        "# Convolutional Neural Network"
      ]
    },
    {
      "cell_type": "markdown",
      "metadata": {
        "colab_type": "text",
        "id": "EMefrVPCg-60"
      },
      "source": [
        "### Importing the libraries"
      ]
    },
    {
      "cell_type": "code",
      "execution_count": 1,
      "metadata": {
        "colab": {},
        "colab_type": "code",
        "id": "FIleuCAjoFD8"
      },
      "outputs": [
        {
          "name": "stdout",
          "output_type": "stream",
          "text": [
            "WARNING:tensorflow:From e:\\Courses\\Machine-Learning-A-Z\\Python\\env\\Lib\\site-packages\\keras\\src\\losses.py:2976: The name tf.losses.sparse_softmax_cross_entropy is deprecated. Please use tf.compat.v1.losses.sparse_softmax_cross_entropy instead.\n",
            "\n"
          ]
        }
      ],
      "source": [
        "import tensorflow as tf\n",
        "from keras.preprocessing.image import ImageDataGenerator"
      ]
    },
    {
      "cell_type": "markdown",
      "metadata": {
        "colab_type": "text",
        "id": "oxQxCBWyoGPE"
      },
      "source": [
        "## Part 1 - Data Preprocessing"
      ]
    },
    {
      "cell_type": "markdown",
      "metadata": {
        "colab_type": "text",
        "id": "MvE-heJNo3GG"
      },
      "source": [
        "### Preprocessing the Training set"
      ]
    },
    {
      "cell_type": "code",
      "execution_count": 2,
      "metadata": {
        "colab": {},
        "colab_type": "code",
        "id": "0koUcJMJpEBD"
      },
      "outputs": [
        {
          "name": "stdout",
          "output_type": "stream",
          "text": [
            "Found 8000 images belonging to 2 classes.\n"
          ]
        }
      ],
      "source": [
        "train_datagen = ImageDataGenerator(\n",
        "    rescale=1.0 / 255, shear_range=0.2, zoom_range=0.2, horizontal_flip=True\n",
        ")\n",
        "training_set = train_datagen.flow_from_directory(\n",
        "    \"./training_set/\", target_size=(64, 64), batch_size=32, class_mode=\"binary\"\n",
        ")"
      ]
    },
    {
      "cell_type": "markdown",
      "metadata": {
        "colab_type": "text",
        "id": "mrCMmGw9pHys"
      },
      "source": [
        "### Preprocessing the Test set"
      ]
    },
    {
      "cell_type": "code",
      "execution_count": 3,
      "metadata": {
        "colab": {},
        "colab_type": "code",
        "id": "SH4WzfOhpKc3"
      },
      "outputs": [
        {
          "name": "stdout",
          "output_type": "stream",
          "text": [
            "Found 2000 images belonging to 2 classes.\n"
          ]
        }
      ],
      "source": [
        "test_datagen = ImageDataGenerator(rescale=1.0 / 255)\n",
        "test_set = test_datagen.flow_from_directory(\n",
        "    \"./test_set/\", target_size=(64, 64), batch_size=32, class_mode=\"binary\"\n",
        ")"
      ]
    },
    {
      "cell_type": "markdown",
      "metadata": {
        "colab_type": "text",
        "id": "af8O4l90gk7B"
      },
      "source": [
        "## Part 2 - Building the CNN"
      ]
    },
    {
      "cell_type": "markdown",
      "metadata": {
        "colab_type": "text",
        "id": "ces1gXY2lmoX"
      },
      "source": [
        "### Initialising the CNN"
      ]
    },
    {
      "cell_type": "code",
      "execution_count": 4,
      "metadata": {
        "colab": {},
        "colab_type": "code",
        "id": "SAUt4UMPlhLS"
      },
      "outputs": [
        {
          "name": "stdout",
          "output_type": "stream",
          "text": [
            "WARNING:tensorflow:From e:\\Courses\\Machine-Learning-A-Z\\Python\\env\\Lib\\site-packages\\keras\\src\\backend.py:873: The name tf.get_default_graph is deprecated. Please use tf.compat.v1.get_default_graph instead.\n",
            "\n"
          ]
        }
      ],
      "source": [
        "cnn = tf.keras.models.Sequential()"
      ]
    },
    {
      "cell_type": "markdown",
      "metadata": {
        "colab_type": "text",
        "id": "u5YJj_XMl5LF"
      },
      "source": [
        "### Step 1 - Convolution"
      ]
    },
    {
      "cell_type": "code",
      "execution_count": 5,
      "metadata": {
        "colab": {},
        "colab_type": "code",
        "id": "XPzPrMckl-hV"
      },
      "outputs": [],
      "source": [
        "cnn.add(\n",
        "    tf.keras.layers.Conv2D(\n",
        "        filters=32, kernel_size=3, activation=\"relu\", input_shape=(64, 64, 3)\n",
        "    )\n",
        ")  # 3 for rgb 1 for black & while"
      ]
    },
    {
      "cell_type": "markdown",
      "metadata": {
        "colab_type": "text",
        "id": "tf87FpvxmNOJ"
      },
      "source": [
        "### Step 2 - Pooling"
      ]
    },
    {
      "cell_type": "code",
      "execution_count": 6,
      "metadata": {
        "colab": {},
        "colab_type": "code",
        "id": "ncpqPl69mOac"
      },
      "outputs": [
        {
          "name": "stdout",
          "output_type": "stream",
          "text": [
            "WARNING:tensorflow:From e:\\Courses\\Machine-Learning-A-Z\\Python\\env\\Lib\\site-packages\\keras\\src\\layers\\pooling\\max_pooling2d.py:161: The name tf.nn.max_pool is deprecated. Please use tf.nn.max_pool2d instead.\n",
            "\n"
          ]
        }
      ],
      "source": [
        "cnn.add(tf.keras.layers.MaxPool2D(pool_size=2, strides=2))"
      ]
    },
    {
      "cell_type": "markdown",
      "metadata": {
        "colab_type": "text",
        "id": "xaTOgD8rm4mU"
      },
      "source": [
        "### Adding a second convolutional layer"
      ]
    },
    {
      "cell_type": "code",
      "execution_count": 7,
      "metadata": {
        "colab": {},
        "colab_type": "code",
        "id": "i_-FZjn_m8gk"
      },
      "outputs": [],
      "source": [
        "cnn.add(tf.keras.layers.Conv2D(filters=32, kernel_size=3, activation=\"relu\"))\n",
        "cnn.add(tf.keras.layers.MaxPool2D(pool_size=2, strides=2))"
      ]
    },
    {
      "cell_type": "markdown",
      "metadata": {
        "colab_type": "text",
        "id": "tmiEuvTunKfk"
      },
      "source": [
        "### Step 3 - Flattening"
      ]
    },
    {
      "cell_type": "code",
      "execution_count": 8,
      "metadata": {
        "colab": {},
        "colab_type": "code",
        "id": "6AZeOGCvnNZn"
      },
      "outputs": [],
      "source": [
        "cnn.add(tf.keras.layers.Flatten())"
      ]
    },
    {
      "cell_type": "markdown",
      "metadata": {
        "colab_type": "text",
        "id": "dAoSECOm203v"
      },
      "source": [
        "### Step 4 - Full Connection"
      ]
    },
    {
      "cell_type": "code",
      "execution_count": 9,
      "metadata": {
        "colab": {},
        "colab_type": "code",
        "id": "8GtmUlLd26Nq"
      },
      "outputs": [],
      "source": [
        "cnn.add(tf.keras.layers.Dense(units=128, activation=\"relu\"))"
      ]
    },
    {
      "cell_type": "markdown",
      "metadata": {
        "colab_type": "text",
        "id": "yTldFvbX28Na"
      },
      "source": [
        "### Step 5 - Output Layer"
      ]
    },
    {
      "cell_type": "code",
      "execution_count": 10,
      "metadata": {
        "colab": {},
        "colab_type": "code",
        "id": "1p_Zj1Mc3Ko_"
      },
      "outputs": [],
      "source": [
        "cnn.add(tf.keras.layers.Dense(units=1, activation=\"sigmoid\"))"
      ]
    },
    {
      "cell_type": "markdown",
      "metadata": {
        "colab_type": "text",
        "id": "D6XkI90snSDl"
      },
      "source": [
        "## Part 3 - Training the CNN"
      ]
    },
    {
      "cell_type": "markdown",
      "metadata": {
        "colab_type": "text",
        "id": "vfrFQACEnc6i"
      },
      "source": [
        "### Compiling the CNN"
      ]
    },
    {
      "cell_type": "code",
      "execution_count": 11,
      "metadata": {
        "colab": {},
        "colab_type": "code",
        "id": "NALksrNQpUlJ"
      },
      "outputs": [
        {
          "name": "stdout",
          "output_type": "stream",
          "text": [
            "WARNING:tensorflow:From e:\\Courses\\Machine-Learning-A-Z\\Python\\env\\Lib\\site-packages\\keras\\src\\optimizers\\__init__.py:309: The name tf.train.Optimizer is deprecated. Please use tf.compat.v1.train.Optimizer instead.\n",
            "\n"
          ]
        }
      ],
      "source": [
        "cnn.compile(optimizer=\"adam\", loss=\"binary_crossentropy\", metrics=[\"accuracy\"])"
      ]
    },
    {
      "cell_type": "markdown",
      "metadata": {
        "colab_type": "text",
        "id": "ehS-v3MIpX2h"
      },
      "source": [
        "### Training the CNN on the Training set and evaluating it on the Test set"
      ]
    },
    {
      "cell_type": "code",
      "execution_count": 12,
      "metadata": {
        "colab": {},
        "colab_type": "code",
        "id": "XUj1W4PJptta"
      },
      "outputs": [
        {
          "name": "stdout",
          "output_type": "stream",
          "text": [
            "Epoch 1/25\n",
            "WARNING:tensorflow:From e:\\Courses\\Machine-Learning-A-Z\\Python\\env\\Lib\\site-packages\\keras\\src\\utils\\tf_utils.py:492: The name tf.ragged.RaggedTensorValue is deprecated. Please use tf.compat.v1.ragged.RaggedTensorValue instead.\n",
            "\n",
            "WARNING:tensorflow:From e:\\Courses\\Machine-Learning-A-Z\\Python\\env\\Lib\\site-packages\\keras\\src\\engine\\base_layer_utils.py:384: The name tf.executing_eagerly_outside_functions is deprecated. Please use tf.compat.v1.executing_eagerly_outside_functions instead.\n",
            "\n",
            "250/250 [==============================] - 20s 76ms/step - loss: 0.6526 - accuracy: 0.6039 - val_loss: 0.6283 - val_accuracy: 0.6285\n",
            "Epoch 2/25\n",
            "250/250 [==============================] - 19s 76ms/step - loss: 0.5725 - accuracy: 0.7016 - val_loss: 0.5248 - val_accuracy: 0.7470\n",
            "Epoch 3/25\n",
            "250/250 [==============================] - 19s 75ms/step - loss: 0.5296 - accuracy: 0.7393 - val_loss: 0.5048 - val_accuracy: 0.7545\n",
            "Epoch 4/25\n",
            "250/250 [==============================] - 19s 74ms/step - loss: 0.5084 - accuracy: 0.7469 - val_loss: 0.4999 - val_accuracy: 0.7555\n",
            "Epoch 5/25\n",
            "250/250 [==============================] - 19s 76ms/step - loss: 0.4921 - accuracy: 0.7607 - val_loss: 0.5205 - val_accuracy: 0.7545\n",
            "Epoch 6/25\n",
            "250/250 [==============================] - 19s 76ms/step - loss: 0.4635 - accuracy: 0.7730 - val_loss: 0.4767 - val_accuracy: 0.7815\n",
            "Epoch 7/25\n",
            "250/250 [==============================] - 28s 111ms/step - loss: 0.4462 - accuracy: 0.7904 - val_loss: 0.4847 - val_accuracy: 0.7770\n",
            "Epoch 8/25\n",
            "250/250 [==============================] - 66s 263ms/step - loss: 0.4309 - accuracy: 0.8008 - val_loss: 0.4529 - val_accuracy: 0.7900\n",
            "Epoch 9/25\n",
            "250/250 [==============================] - 63s 250ms/step - loss: 0.4237 - accuracy: 0.8018 - val_loss: 0.4341 - val_accuracy: 0.7900\n",
            "Epoch 10/25\n",
            "250/250 [==============================] - 60s 238ms/step - loss: 0.4064 - accuracy: 0.8090 - val_loss: 0.4438 - val_accuracy: 0.7860\n",
            "Epoch 11/25\n",
            "250/250 [==============================] - 53s 212ms/step - loss: 0.3981 - accuracy: 0.8144 - val_loss: 0.4443 - val_accuracy: 0.7930\n",
            "Epoch 12/25\n",
            "250/250 [==============================] - 46s 183ms/step - loss: 0.3849 - accuracy: 0.8234 - val_loss: 0.4321 - val_accuracy: 0.8030\n",
            "Epoch 13/25\n",
            "250/250 [==============================] - 47s 190ms/step - loss: 0.3721 - accuracy: 0.8307 - val_loss: 0.4710 - val_accuracy: 0.7875\n",
            "Epoch 14/25\n",
            "250/250 [==============================] - 44s 175ms/step - loss: 0.3557 - accuracy: 0.8397 - val_loss: 0.4511 - val_accuracy: 0.8020\n",
            "Epoch 15/25\n",
            "250/250 [==============================] - 52s 208ms/step - loss: 0.3428 - accuracy: 0.8484 - val_loss: 0.4429 - val_accuracy: 0.8000\n",
            "Epoch 16/25\n",
            "250/250 [==============================] - 54s 217ms/step - loss: 0.3311 - accuracy: 0.8546 - val_loss: 0.4482 - val_accuracy: 0.8040\n",
            "Epoch 17/25\n",
            "250/250 [==============================] - 39s 156ms/step - loss: 0.3171 - accuracy: 0.8639 - val_loss: 0.4470 - val_accuracy: 0.7960\n",
            "Epoch 18/25\n",
            "250/250 [==============================] - 40s 161ms/step - loss: 0.3117 - accuracy: 0.8651 - val_loss: 0.4454 - val_accuracy: 0.8135\n",
            "Epoch 19/25\n",
            "250/250 [==============================] - 38s 153ms/step - loss: 0.2946 - accuracy: 0.8733 - val_loss: 0.5506 - val_accuracy: 0.7740\n",
            "Epoch 20/25\n",
            "250/250 [==============================] - 58s 231ms/step - loss: 0.2742 - accuracy: 0.8819 - val_loss: 0.4561 - val_accuracy: 0.8135\n",
            "Epoch 21/25\n",
            "250/250 [==============================] - 34s 137ms/step - loss: 0.2665 - accuracy: 0.8875 - val_loss: 0.4786 - val_accuracy: 0.7995\n",
            "Epoch 22/25\n",
            "250/250 [==============================] - 46s 185ms/step - loss: 0.2611 - accuracy: 0.8898 - val_loss: 0.4818 - val_accuracy: 0.8060\n",
            "Epoch 23/25\n",
            "250/250 [==============================] - 56s 224ms/step - loss: 0.2432 - accuracy: 0.8986 - val_loss: 0.5089 - val_accuracy: 0.8075\n",
            "Epoch 24/25\n",
            "250/250 [==============================] - 58s 232ms/step - loss: 0.2403 - accuracy: 0.9000 - val_loss: 0.5449 - val_accuracy: 0.7980\n",
            "Epoch 25/25\n",
            "250/250 [==============================] - 50s 202ms/step - loss: 0.2203 - accuracy: 0.9112 - val_loss: 0.4876 - val_accuracy: 0.8210\n"
          ]
        },
        {
          "data": {
            "text/plain": [
              "<keras.src.callbacks.History at 0x145ab0ff850>"
            ]
          },
          "execution_count": 12,
          "metadata": {},
          "output_type": "execute_result"
        }
      ],
      "source": [
        "cnn.fit(x=training_set, validation_data=test_set, epochs=25)"
      ]
    },
    {
      "cell_type": "markdown",
      "metadata": {
        "colab_type": "text",
        "id": "U3PZasO0006Z"
      },
      "source": [
        "## Part 4 - Making a single prediction"
      ]
    },
    {
      "cell_type": "code",
      "execution_count": 47,
      "metadata": {},
      "outputs": [
        {
          "name": "stdout",
          "output_type": "stream",
          "text": [
            "1/1 [==============================] - 0s 41ms/step\n",
            "{'cats': 0, 'dogs': 1}\n"
          ]
        }
      ],
      "source": [
        "import numpy as np\n",
        "from keras.preprocessing import image\n",
        "\n",
        "\n",
        "test_image = image.load_img(\"./single_prediction/cat_or_dog_1.jpg\", target_size=(64, 64))\n",
        "test_image = image.img_to_array(test_image)\n",
        "test_image = np.expand_dims(test_image, axis=0)\n",
        "\n",
        "\n",
        "result = cnn.predict(test_image)\n",
        "print(\n",
        "    training_set.class_indices\n",
        ")  # used to identify which class is dog and which is cat\n",
        "if result[0][0] == 1:\n",
        "    prediction = \"dog\"\n",
        "else:\n",
        "    prediction = \"cat\""
      ]
    },
    {
      "cell_type": "code",
      "execution_count": 48,
      "metadata": {},
      "outputs": [
        {
          "name": "stdout",
          "output_type": "stream",
          "text": [
            "cat\n"
          ]
        }
      ],
      "source": [
        "print(prediction)"
      ]
    }
  ],
  "metadata": {
    "colab": {
      "collapsed_sections": [],
      "name": "convolutional_neural_network.ipynb",
      "provenance": [],
      "toc_visible": true
    },
    "kernelspec": {
      "display_name": "Python 3",
      "name": "python3"
    },
    "language_info": {
      "codemirror_mode": {
        "name": "ipython",
        "version": 3
      },
      "file_extension": ".py",
      "mimetype": "text/x-python",
      "name": "python",
      "nbconvert_exporter": "python",
      "pygments_lexer": "ipython3",
      "version": "3.11.6"
    }
  },
  "nbformat": 4,
  "nbformat_minor": 0
}
